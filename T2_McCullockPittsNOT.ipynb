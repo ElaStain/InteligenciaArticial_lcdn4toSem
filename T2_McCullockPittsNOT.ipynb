{
  "nbformat": 4,
  "nbformat_minor": 0,
  "metadata": {
    "colab": {
      "provenance": [],
      "authorship_tag": "ABX9TyPaTT/dz6L7iLVMDNEmas+z",
      "include_colab_link": true
    },
    "kernelspec": {
      "name": "python3",
      "display_name": "Python 3"
    },
    "language_info": {
      "name": "python"
    }
  },
  "cells": [
    {
      "cell_type": "markdown",
      "metadata": {
        "id": "view-in-github",
        "colab_type": "text"
      },
      "source": [
        "<a href=\"https://colab.research.google.com/github/ElaStain/InteligenciaArticial_lcdn4toSem/blob/main/T2_McCullockPittsNOT.ipynb\" target=\"_parent\"><img src=\"https://colab.research.google.com/assets/colab-badge.svg\" alt=\"Open In Colab\"/></a>"
      ]
    },
    {
      "cell_type": "markdown",
      "source": [
        "# Tarea 2: McCullock-Pitts"
      ],
      "metadata": {
        "id": "1IA1Q2UC2kEB"
      }
    },
    {
      "cell_type": "markdown",
      "source": [
        "## NOT"
      ],
      "metadata": {
        "id": "i3psb56K2rj4"
      }
    },
    {
      "cell_type": "code",
      "execution_count": 1,
      "metadata": {
        "id": "3L-rN3d42dOo"
      },
      "outputs": [],
      "source": [
        "import numpy as np\n",
        "# Entrada para la neurona\n",
        "\n",
        "# For NOT gate, we only need one input\n",
        "X = np.array ([\n",
        "    [0],\n",
        "    [1],\n",
        "])\n",
        "# Salidas esperadas para NOT\n",
        "Y = np.array([1, 0])\n",
        "# Pesos para las entradas para la puerta NOT\n",
        "\n",
        "# For NOT gate, we only need one weight\n",
        "W = [-1]\n",
        "\n",
        "# Umbral para la función de activación para la puerta NOT\n",
        "umbral = -0.5"
      ]
    },
    {
      "cell_type": "code",
      "source": [
        "class McCullochPitts:\n",
        "    def __init__(self, weights,umbral):\n",
        "        \"\"\"\n",
        "        Constructor de la neurona MCP.\n",
        "        Guarda las variables.\n",
        "        weights -> vector pesos iniciales\n",
        "        umbral -> umbral para usar en la función activación\n",
        "        \"\"\"\n",
        "        self.weights = weights\n",
        "        self.umbral = umbral\n",
        "\n",
        "    def predict(self, X):\n",
        "        \"\"\"Calcula la salida de la neurona para cada fila de entradas X .\"\"\"\n",
        "        # Lista donde se guardarán las salidas\n",
        "        predictions = []\n",
        "        # Recordemos cada fila de entradas\n",
        "        for i in range(X.shape[0]):\n",
        "            # Calcular la suma ponderada: w1*x1 + w2*x2 (or just w1*x1 for NOT)\n",
        "            weighted_sum  = np.dot(self.weights,X[i])\n",
        "            # Mostramos en consola la entrada y la suma ponderada\n",
        "            print(f\"Input: {X[i]}, Weighted Sum : {weighted_sum}\")\n",
        "            # Comparación con el umbral si la neurona se activa o no\n",
        "            if weighted_sum >= self.umbral:\n",
        "                predictions.append(1)\n",
        "            else:\n",
        "                predictions.append(0)\n",
        "        return predictions\n",
        "# Instanciamos la clase McCullochPitts\n",
        "mcp = McCullochPitts(W, umbral)\n",
        "# Calculamos las predicciones\n",
        "predictions = mcp.predict(X)\n",
        "# Mostramos resultado final\n",
        "print(\"Predictions\",predictions)"
      ],
      "metadata": {
        "colab": {
          "base_uri": "https://localhost:8080/"
        },
        "id": "fKfwtM403IXB",
        "outputId": "b79088cd-1523-47d2-e694-2295ef5e70ba"
      },
      "execution_count": 3,
      "outputs": [
        {
          "output_type": "stream",
          "name": "stdout",
          "text": [
            "Input: [0], Weighted Sum : 0\n",
            "Input: [1], Weighted Sum : -1\n",
            "Predictions [1, 0]\n"
          ]
        }
      ]
    },
    {
      "cell_type": "markdown",
      "source": [
        "# Implementación de Puerta NOT con Neurona McCulloch-Pitts\n",
        "\n",
        "Este código simula una puerta lógica NOT usando el modelo de neurona de McCulloch-Pitts.\n",
        "\n",
        "## Código explicado:\n",
        "\n",
        "```python\n",
        "import numpy as np\n",
        "\n",
        "# Configuración básica\n",
        "X = np.array([[0], [1]])      # Entradas: 0 y 1\n",
        "Y = np.array([1, 0])          # Salidas esperadas: 1 y 0\n",
        "W = [-1]                      # Peso único\n",
        "umbral = -0.5                 # Límite de activación\n",
        "```\n",
        "\n",
        "## ¿Cómo funciona?\n",
        "\n",
        "La clase `McCullochPitts` calcula la salida así:\n",
        "\n",
        "1. **Multiplica** la entrada por el peso: `entrada × (-1)`\n",
        "2. **Compara** el resultado con el umbral (-0.5)\n",
        "3. **Si es mayor o igual** al umbral → sale 1\n",
        "4. **Si es menor** → sale 0\n",
        "\n",
        "## Ejemplo:\n",
        "- Entrada 0: `0 × (-1) = 0` → `0 ≥ -0.5` → **Salida: 1** ✅\n",
        "- Entrada 1: `1 × (-1) = -1` → `-1 ≥ -0.5` → **Salida: 0** ✅\n",
        "\n",
        "## Resultado:\n",
        "```\n",
        "Predictions: [1, 0]\n",
        "```\n",
        "\n",
        "Funciona correctamente como una puerta NOT, invirtiendo las entradas."
      ],
      "metadata": {
        "id": "bYcWldOX5_FC"
      }
    }
  ]
}