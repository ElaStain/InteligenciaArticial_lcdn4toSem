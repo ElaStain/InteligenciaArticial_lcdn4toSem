{
  "nbformat": 4,
  "nbformat_minor": 0,
  "metadata": {
    "colab": {
      "provenance": [],
      "authorship_tag": "ABX9TyNgLT5ChE+Y8gzAy4dvZzJN",
      "include_colab_link": true
    },
    "kernelspec": {
      "name": "python3",
      "display_name": "Python 3"
    },
    "language_info": {
      "name": "python"
    }
  },
  "cells": [
    {
      "cell_type": "markdown",
      "metadata": {
        "id": "view-in-github",
        "colab_type": "text"
      },
      "source": [
        "<a href=\"https://colab.research.google.com/github/ElaStain/InteligenciaArticial_lcdn4toSem/blob/main/T2_McCullockPittsOR.ipynb\" target=\"_parent\"><img src=\"https://colab.research.google.com/assets/colab-badge.svg\" alt=\"Open In Colab\"/></a>"
      ]
    },
    {
      "cell_type": "markdown",
      "source": [
        "# Tarea 2: McCullock-Pitts"
      ],
      "metadata": {
        "id": "1IA1Q2UC2kEB"
      }
    },
    {
      "cell_type": "markdown",
      "source": [
        "## OR"
      ],
      "metadata": {
        "id": "i3psb56K2rj4"
      }
    },
    {
      "cell_type": "code",
      "execution_count": 5,
      "metadata": {
        "id": "3L-rN3d42dOo"
      },
      "outputs": [],
      "source": [
        "import numpy as np\n",
        "# Entrada para la neurona\n",
        "\n",
        "X = np.array ([\n",
        "    [0,0],\n",
        "    [0,1],\n",
        "    [1,0],\n",
        "    [1,1],\n",
        "])\n",
        "# Salidas esperadas para OR\n",
        "Y = np.array([0,1,1,1])\n",
        "# Pesos para las entradas para la puerta OR\n",
        "\n",
        "W = [1,1]\n",
        "\n",
        "# Umbral para la función de activación para la puerta OR\n",
        "umbral = 1"
      ]
    },
    {
      "cell_type": "code",
      "source": [
        "class McCullochPitts:\n",
        "    def __init__(self, weights,umbral):\n",
        "        \"\"\"\n",
        "        Constructor de la neurona MCP.\n",
        "        Guarda las variables.\n",
        "        weights -> vector pesos iniciales\n",
        "        umbral -> umbral para usar en la función activación\n",
        "        \"\"\"\n",
        "        self.weights = weights\n",
        "        self.umbral = umbral\n",
        "\n",
        "    def predict(self, X):\n",
        "        \"\"\"Calcula la salida de la neurona para cada fila de entradas X .\"\"\"\n",
        "        # Lista donde se guardarán las salidas\n",
        "        predictions = []\n",
        "        # Recordemos cada fila de entradas\n",
        "        for i in range(X.shape[0]):\n",
        "            # Calcular la suma ponderada: w1*x1 + w2*x2\n",
        "            weighted_sum  = np.dot(self.weights,X[i])\n",
        "            # Mostramos en consola la entrada y la suma ponderada\n",
        "            print(f\"Input: {X[i]}, Weighted Sum : {weighted_sum}\")\n",
        "            # Comparación con el umbral si la neurona se activa o no\n",
        "            if weighted_sum >= self.umbral:\n",
        "                predictions.append(1)\n",
        "            else:\n",
        "                predictions.append(0)\n",
        "        return predictions\n",
        "# Instanciamos la clase McCullochPitts\n",
        "mcp = McCullochPitts(W, umbral)\n",
        "# Calculamos las predicciones\n",
        "predictions = mcp.predict(X)\n",
        "# Mostramos resultado final\n",
        "print(\"Predictions\",predictions)"
      ],
      "metadata": {
        "colab": {
          "base_uri": "https://localhost:8080/"
        },
        "id": "fKfwtM403IXB",
        "outputId": "0c590f21-882f-4117-8686-ef8789b2d026"
      },
      "execution_count": 6,
      "outputs": [
        {
          "output_type": "stream",
          "name": "stdout",
          "text": [
            "Input: [0 0], Weighted Sum : 0\n",
            "Input: [0 1], Weighted Sum : 1\n",
            "Input: [1 0], Weighted Sum : 1\n",
            "Input: [1 1], Weighted Sum : 2\n",
            "Predictions [0, 1, 1, 1]\n"
          ]
        }
      ]
    }
  ]
}